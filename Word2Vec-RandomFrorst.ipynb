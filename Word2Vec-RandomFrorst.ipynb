{
 "cells": [
  {
   "cell_type": "code",
   "execution_count": 1,
   "metadata": {},
   "outputs": [],
   "source": [
    "# Loading the cleanned train and test sets\n",
    "import gensim\n",
    "import pandas as pd\n",
    "import numpy as np\n",
    "\n",
    "x_train = pd.read_csv('x_train.csv')\n",
    "y_train = pd.read_csv('y_train.csv')\n",
    "x_test = pd.read_csv('x_test.csv')\n",
    "y_test = pd.read_csv('y_test.csv')"
   ]
  },
  {
   "cell_type": "code",
   "execution_count": 2,
   "metadata": {},
   "outputs": [],
   "source": [
    "# Traning a Word2Vec model using gensim\n",
    "w2v_model = gensim.models.Word2Vec(x_train,\n",
    "                                   vector_size = 100,\n",
    "                                   window = 5,\n",
    "                                   min_count = 2)"
   ]
  },
  {
   "cell_type": "code",
   "execution_count": 3,
   "metadata": {},
   "outputs": [],
   "source": [
    "# Replacing the words in all the text messages with their learned vectors through the Word_to_Vec model\n",
    "words = set(w2v_model.wv.index_to_key)\n",
    "x_train_vect = np.array([np.array([w2v_model.wv[i] for i in ls if i in words])\n",
    "                    for ls in x_train['cleanned_text']], dtype=object)\n",
    "x_test_vect = np.array([np.array([w2v_model.wv[i] for i in ls if i in words])\n",
    "                    for ls in x_test['cleanned_text']], dtype=object)"
   ]
  },
  {
   "cell_type": "code",
   "execution_count": 4,
   "metadata": {},
   "outputs": [],
   "source": [
    "# Computing the average for word vectors for the words contained in each text message\n",
    "# and returning an array of zeros if none of the words in a text message were learned by the model.\n",
    "# Averaging returns one single array of a set of arrays\n",
    "x_train_vect_avg = []\n",
    "x_test_vect_avg = []\n",
    "\n",
    "for vect in x_train_vect:\n",
    "    if len(vect) != 0:\n",
    "        x_train_vect_avg.append(vect.mean(axis = 0))\n",
    "    else:\n",
    "        x_train_vect_avg.append(np.zeros(100, dtype = float))\n",
    "        \n",
    "for vect in x_test_vect:\n",
    "    if len(vect) != 0:\n",
    "        x_test_vect_avg.append(vect.mean(axis = 0))\n",
    "    else:\n",
    "        x_test_vect_avg.append(np.zeros(100, dtype = float))"
   ]
  },
  {
   "cell_type": "code",
   "execution_count": 5,
   "metadata": {},
   "outputs": [],
   "source": [
    "# Fit a Random Forst classifier over the training set vectors\n",
    "from sklearn.ensemble import RandomForestClassifier\n",
    "\n",
    "rfc = RandomForestClassifier()\n",
    "rfc_model = rfc.fit(x_train_vect_avg, y_train.values.ravel())"
   ]
  },
  {
   "cell_type": "code",
   "execution_count": 6,
   "metadata": {},
   "outputs": [
    {
     "name": "stdout",
     "output_type": "stream",
     "text": [
      "Precision: 0.613 / Recall: 0.354 / Accuracy: 0.874\n"
     ]
    }
   ],
   "source": [
    "# Predicting labels for the test set and evaluating the output\n",
    "y_pred = rfc_model.predict(x_test_vect_avg)\n",
    "\n",
    "from sklearn.metrics import precision_score, recall_score\n",
    "\n",
    "precision = precision_score(y_test, y_pred)\n",
    "recall = recall_score(y_test, y_pred)\n",
    "print('Precision: {} / Recall: {} / Accuracy: {}'.format(round(precision, 3), \n",
    "                                                  round(recall, 3), round((y_pred == y_test['label']).sum()/len(y_pred), 3)))"
   ]
  },
  {
   "cell_type": "code",
   "execution_count": null,
   "metadata": {},
   "outputs": [],
   "source": [
    "# The Word_2_Vec results are much worse than those of TFIDF for all the three of precision, recall and accuracy which\n",
    "# is normal as Word_2_Vec is not intended to create representation for senteces. It is here averaging word vectors of\n",
    "# sentences to create presentations for the sentences."
   ]
  }
 ],
 "metadata": {
  "kernelspec": {
   "display_name": "Python 3",
   "language": "python",
   "name": "python3"
  },
  "language_info": {
   "codemirror_mode": {
    "name": "ipython",
    "version": 3
   },
   "file_extension": ".py",
   "mimetype": "text/x-python",
   "name": "python",
   "nbconvert_exporter": "python",
   "pygments_lexer": "ipython3",
   "version": "3.8.5"
  }
 },
 "nbformat": 4,
 "nbformat_minor": 4
}
