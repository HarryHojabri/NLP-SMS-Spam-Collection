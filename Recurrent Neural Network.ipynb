{
 "cells": [
  {
   "cell_type": "code",
   "execution_count": 1,
   "metadata": {},
   "outputs": [],
   "source": [
    "import pandas as pd\n",
    "import keras\n",
    "import keras_metrics\n",
    "from keras.models import Sequential\n",
    "from keras.layers import Embedding\n",
    "from keras.layers import LSTM\n",
    "from keras.layers import Dense\n",
    "from keras.preprocessing.text import Tokenizer\n",
    "from keras.preprocessing.sequence import pad_sequences\n",
    "\n",
    "x_train = pd.read_csv('x_train.csv')\n",
    "y_train = pd.read_csv('y_train.csv')\n",
    "x_test = pd.read_csv('x_test.csv')\n",
    "y_test = pd.read_csv('y_test.csv')"
   ]
  },
  {
   "cell_type": "code",
   "execution_count": 2,
   "metadata": {},
   "outputs": [],
   "source": [
    "# Training the tokenizer and using that tokenizer to convert a list of tokens to a list of numbers\n",
    "# Instantiating and fit the tokenizer\n",
    "\n",
    "tokenizer = Tokenizer()\n",
    "tokenizer.fit_on_texts(x_train['cleanned_text'])\n",
    "\n",
    "# Use the tokenizer to transform the text messages in the training and test sets\n",
    "x_train_seq = tokenizer.texts_to_sequences(x_train['cleanned_text'])\n",
    "x_test_seq = tokenizer.texts_to_sequences(x_test['cleanned_text'])"
   ]
  },
  {
   "cell_type": "code",
   "execution_count": 3,
   "metadata": {},
   "outputs": [],
   "source": [
    "# Padding each sequesne to the same length, '50' here: Padding the one less than 50 to 50 with 0s\n",
    "# and truncating the longer ones down to 50\n",
    "x_train_seq_padded = pad_sequences(x_train_seq, 50)\n",
    "x_test_seq_padded = pad_sequences(x_test_seq, 50)"
   ]
  },
  {
   "cell_type": "code",
   "execution_count": 4,
   "metadata": {},
   "outputs": [
    {
     "name": "stdout",
     "output_type": "stream",
     "text": [
      "Model: \"sequential\"\n",
      "_________________________________________________________________\n",
      "Layer (type)                 Output Shape              Param #   \n",
      "=================================================================\n",
      "embedding (Embedding)        (None, None, 32)          264128    \n",
      "_________________________________________________________________\n",
      "lstm (LSTM)                  (None, 32)                8320      \n",
      "_________________________________________________________________\n",
      "dense (Dense)                (None, 32)                1056      \n",
      "_________________________________________________________________\n",
      "dense_1 (Dense)              (None, 1)                 33        \n",
      "=================================================================\n",
      "Total params: 273,537\n",
      "Trainable params: 273,537\n",
      "Non-trainable params: 0\n",
      "_________________________________________________________________\n"
     ]
    }
   ],
   "source": [
    "# Constructing a simple RNN model\n",
    "model = Sequential()\n",
    "model.add(Embedding(len(tokenizer.index_word)+1, 32))\n",
    "model.add(LSTM(32, dropout = 0, recurrent_dropout = 0))\n",
    "model.add(Dense(32, activation = 'relu'))\n",
    "model.add(Dense(1, activation = 'sigmoid'))\n",
    "model.summary()"
   ]
  },
  {
   "cell_type": "code",
   "execution_count": 5,
   "metadata": {},
   "outputs": [],
   "source": [
    "# Compiling the model\n",
    "model.compile(optimizer = 'adam',\n",
    "              loss = 'binary_crossentropy',\n",
    "              metrics = ['accuracy', keras_metrics.precision(), keras_metrics.recall()])"
   ]
  },
  {
   "cell_type": "code",
   "execution_count": 6,
   "metadata": {},
   "outputs": [
    {
     "name": "stdout",
     "output_type": "stream",
     "text": [
      "Epoch 1/10\n",
      "WARNING:tensorflow:`add_update` `inputs` kwarg has been deprecated. You no longer need to pass a value to `inputs` as it is being automatically inferred.\n",
      "WARNING:tensorflow:`add_update` `inputs` kwarg has been deprecated. You no longer need to pass a value to `inputs` as it is being automatically inferred.\n",
      "WARNING:tensorflow:`add_update` `inputs` kwarg has been deprecated. You no longer need to pass a value to `inputs` as it is being automatically inferred.\n",
      "WARNING:tensorflow:`add_update` `inputs` kwarg has been deprecated. You no longer need to pass a value to `inputs` as it is being automatically inferred.\n",
      "WARNING:tensorflow:`add_update` `inputs` kwarg has been deprecated. You no longer need to pass a value to `inputs` as it is being automatically inferred.\n",
      "WARNING:tensorflow:`add_update` `inputs` kwarg has been deprecated. You no longer need to pass a value to `inputs` as it is being automatically inferred.\n",
      "WARNING:tensorflow:`add_update` `inputs` kwarg has been deprecated. You no longer need to pass a value to `inputs` as it is being automatically inferred.\n",
      "WARNING:tensorflow:`add_update` `inputs` kwarg has been deprecated. You no longer need to pass a value to `inputs` as it is being automatically inferred.\n",
      "139/140 [============================>.] - ETA: 0s - loss: 0.4535 - accuracy: 0.8434 - precision: 0.1610 - recall: 0.1355WARNING:tensorflow:`add_update` `inputs` kwarg has been deprecated. You no longer need to pass a value to `inputs` as it is being automatically inferred.\n",
      "WARNING:tensorflow:`add_update` `inputs` kwarg has been deprecated. You no longer need to pass a value to `inputs` as it is being automatically inferred.\n",
      "WARNING:tensorflow:`add_update` `inputs` kwarg has been deprecated. You no longer need to pass a value to `inputs` as it is being automatically inferred.\n",
      "WARNING:tensorflow:`add_update` `inputs` kwarg has been deprecated. You no longer need to pass a value to `inputs` as it is being automatically inferred.\n",
      "140/140 [==============================] - 13s 63ms/step - loss: 0.4512 - accuracy: 0.8443 - precision: 0.1635 - recall: 0.1354 - val_loss: 0.0885 - val_accuracy: 0.9785 - val_precision: 0.9942 - val_recall: 0.8241\n",
      "Epoch 2/10\n",
      "140/140 [==============================] - 4s 31ms/step - loss: 0.0358 - accuracy: 0.9908 - precision: 0.9889 - recall: 0.9492 - val_loss: 0.0705 - val_accuracy: 0.9821 - val_precision: 0.9994 - val_recall: 0.8641\n",
      "Epoch 3/10\n",
      "140/140 [==============================] - 4s 30ms/step - loss: 0.0112 - accuracy: 0.9964 - precision: 0.9853 - recall: 0.9913 - val_loss: 0.0603 - val_accuracy: 0.9848 - val_precision: 0.9994 - val_recall: 0.8892\n",
      "Epoch 4/10\n",
      "140/140 [==============================] - 4s 30ms/step - loss: 0.0043 - accuracy: 0.9993 - precision: 0.9997 - recall: 0.9972 - val_loss: 0.0713 - val_accuracy: 0.9874 - val_precision: 0.9994 - val_recall: 0.9040\n",
      "Epoch 5/10\n",
      "140/140 [==============================] - 4s 29ms/step - loss: 4.0275e-04 - accuracy: 1.0000 - precision: 1.0000 - recall: 1.0000 - val_loss: 0.0643 - val_accuracy: 0.9901 - val_precision: 0.9994 - val_recall: 0.9174\n",
      "Epoch 6/10\n",
      "140/140 [==============================] - 4s 29ms/step - loss: 5.1483e-04 - accuracy: 0.9999 - precision: 1.0000 - recall: 0.9997 - val_loss: 0.0738 - val_accuracy: 0.9874 - val_precision: 0.9994 - val_recall: 0.9037\n",
      "Epoch 7/10\n",
      "140/140 [==============================] - 4s 30ms/step - loss: 1.9220e-04 - accuracy: 1.0000 - precision: 1.0000 - recall: 1.0000 - val_loss: 0.0808 - val_accuracy: 0.9865 - val_precision: 0.9994 - val_recall: 0.9027\n",
      "Epoch 8/10\n",
      "140/140 [==============================] - 4s 30ms/step - loss: 1.0460e-04 - accuracy: 1.0000 - precision: 1.0000 - recall: 1.0000 - val_loss: 0.0815 - val_accuracy: 0.9874 - val_precision: 0.9994 - val_recall: 0.9037\n",
      "Epoch 9/10\n",
      "140/140 [==============================] - 4s 29ms/step - loss: 8.1862e-05 - accuracy: 1.0000 - precision: 1.0000 - recall: 1.0000 - val_loss: 0.0893 - val_accuracy: 0.9865 - val_precision: 0.9994 - val_recall: 0.9027\n",
      "Epoch 10/10\n",
      "140/140 [==============================] - 4s 30ms/step - loss: 4.4359e-05 - accuracy: 1.0000 - precision: 1.0000 - recall: 1.0000 - val_loss: 0.0855 - val_accuracy: 0.9874 - val_precision: 0.9994 - val_recall: 0.9037\n"
     ]
    }
   ],
   "source": [
    "import warnings\n",
    "warnings.filterwarnings(\"ignore\")\n",
    "# Fit the model\n",
    "history = model.fit(x_train_seq_padded, y_train,\n",
    "                    batch_size = 32, epochs = 10,\n",
    "                    validation_data = (x_test_seq_padded, y_test))"
   ]
  },
  {
   "cell_type": "code",
   "execution_count": null,
   "metadata": {},
   "outputs": [],
   "source": []
  }
 ],
 "metadata": {
  "kernelspec": {
   "display_name": "Python 3",
   "language": "python",
   "name": "python3"
  },
  "language_info": {
   "codemirror_mode": {
    "name": "ipython",
    "version": 3
   },
   "file_extension": ".py",
   "mimetype": "text/x-python",
   "name": "python",
   "nbconvert_exporter": "python",
   "pygments_lexer": "ipython3",
   "version": "3.8.5"
  }
 },
 "nbformat": 4,
 "nbformat_minor": 4
}
